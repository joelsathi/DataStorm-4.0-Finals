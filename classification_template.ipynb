{
 "cells": [
  {
   "attachments": {},
   "cell_type": "markdown",
   "metadata": {},
   "source": [
    "# Import the necessary Libraries\n"
   ]
  },
  {
   "cell_type": "code",
   "execution_count": 46,
   "metadata": {},
   "outputs": [],
   "source": [
    "import pandas as pd\n",
    "import numpy as np\n",
    "import lime\n",
    "import lime.lime_tabular\n",
    "import matplotlib.pyplot as plt\n",
    "import seaborn as sns"
   ]
  },
  {
   "attachments": {},
   "cell_type": "markdown",
   "metadata": {},
   "source": [
    "# Read the preprocessed data\n"
   ]
  },
  {
   "cell_type": "code",
   "execution_count": 47,
   "metadata": {},
   "outputs": [],
   "source": [
    "preprocessed_data = pd.read_csv(\"preprocessed_data.csv\")"
   ]
  },
  {
   "cell_type": "code",
   "execution_count": 48,
   "metadata": {},
   "outputs": [
    {
     "data": {
      "text/html": [
       "<div>\n",
       "<style scoped>\n",
       "    .dataframe tbody tr th:only-of-type {\n",
       "        vertical-align: middle;\n",
       "    }\n",
       "\n",
       "    .dataframe tbody tr th {\n",
       "        vertical-align: top;\n",
       "    }\n",
       "\n",
       "    .dataframe thead th {\n",
       "        text-align: right;\n",
       "    }\n",
       "</style>\n",
       "<table border=\"1\" class=\"dataframe\">\n",
       "  <thead>\n",
       "    <tr style=\"text-align: right;\">\n",
       "      <th></th>\n",
       "      <th>Patient_ID</th>\n",
       "      <th>Pregncies</th>\n",
       "      <th>Glucose</th>\n",
       "      <th>BloodPressure</th>\n",
       "      <th>SkinThickness</th>\n",
       "      <th>Insulin</th>\n",
       "      <th>BMI</th>\n",
       "      <th>DiabetesPedigreeFunction</th>\n",
       "      <th>Age</th>\n",
       "      <th>Outcome</th>\n",
       "    </tr>\n",
       "  </thead>\n",
       "  <tbody>\n",
       "    <tr>\n",
       "      <th>0</th>\n",
       "      <td>1</td>\n",
       "      <td>0.738942</td>\n",
       "      <td>0.841697</td>\n",
       "      <td>0.079257</td>\n",
       "      <td>0.878673</td>\n",
       "      <td>-1.015223</td>\n",
       "      <td>0.174836</td>\n",
       "      <td>0.823401</td>\n",
       "      <td>1.362184</td>\n",
       "      <td>1</td>\n",
       "    </tr>\n",
       "    <tr>\n",
       "      <th>1</th>\n",
       "      <td>2</td>\n",
       "      <td>-0.815412</td>\n",
       "      <td>-1.101194</td>\n",
       "      <td>-0.293974</td>\n",
       "      <td>0.633136</td>\n",
       "      <td>-1.015223</td>\n",
       "      <td>-0.726206</td>\n",
       "      <td>-0.168910</td>\n",
       "      <td>0.124186</td>\n",
       "      <td>0</td>\n",
       "    </tr>\n",
       "    <tr>\n",
       "      <th>2</th>\n",
       "      <td>3</td>\n",
       "      <td>1.199867</td>\n",
       "      <td>1.983640</td>\n",
       "      <td>-0.414110</td>\n",
       "      <td>-1.432077</td>\n",
       "      <td>-1.015223</td>\n",
       "      <td>-1.130359</td>\n",
       "      <td>0.937118</td>\n",
       "      <td>0.227845</td>\n",
       "      <td>1</td>\n",
       "    </tr>\n",
       "    <tr>\n",
       "      <th>3</th>\n",
       "      <td>4</td>\n",
       "      <td>-0.815412</td>\n",
       "      <td>-0.983143</td>\n",
       "      <td>-0.293974</td>\n",
       "      <td>0.362290</td>\n",
       "      <td>0.849231</td>\n",
       "      <td>-0.537930</td>\n",
       "      <td>-1.302353</td>\n",
       "      <td>-1.480337</td>\n",
       "      <td>0</td>\n",
       "    </tr>\n",
       "    <tr>\n",
       "      <th>4</th>\n",
       "      <td>5</td>\n",
       "      <td>-2.025613</td>\n",
       "      <td>0.491042</td>\n",
       "      <td>-1.676657</td>\n",
       "      <td>0.878673</td>\n",
       "      <td>1.069805</td>\n",
       "      <td>1.479798</td>\n",
       "      <td>2.339558</td>\n",
       "      <td>0.324975</td>\n",
       "      <td>1</td>\n",
       "    </tr>\n",
       "  </tbody>\n",
       "</table>\n",
       "</div>"
      ],
      "text/plain": [
       "   Patient_ID  Pregncies   Glucose  BloodPressure  SkinThickness   Insulin   \n",
       "0           1   0.738942  0.841697       0.079257       0.878673 -1.015223  \\\n",
       "1           2  -0.815412 -1.101194      -0.293974       0.633136 -1.015223   \n",
       "2           3   1.199867  1.983640      -0.414110      -1.432077 -1.015223   \n",
       "3           4  -0.815412 -0.983143      -0.293974       0.362290  0.849231   \n",
       "4           5  -2.025613  0.491042      -1.676657       0.878673  1.069805   \n",
       "\n",
       "        BMI  DiabetesPedigreeFunction       Age  Outcome  \n",
       "0  0.174836                  0.823401  1.362184        1  \n",
       "1 -0.726206                 -0.168910  0.124186        0  \n",
       "2 -1.130359                  0.937118  0.227845        1  \n",
       "3 -0.537930                 -1.302353 -1.480337        0  \n",
       "4  1.479798                  2.339558  0.324975        1  "
      ]
     },
     "execution_count": 48,
     "metadata": {},
     "output_type": "execute_result"
    }
   ],
   "source": [
    "preprocessed_data.head()"
   ]
  },
  {
   "cell_type": "code",
   "execution_count": 58,
   "metadata": {},
   "outputs": [
    {
     "data": {
      "text/plain": [
       "Patient_ID                    int64\n",
       "Pregncies                   float64\n",
       "Glucose                     float64\n",
       "BloodPressure               float64\n",
       "SkinThickness               float64\n",
       "Insulin                     float64\n",
       "BMI                         float64\n",
       "DiabetesPedigreeFunction    float64\n",
       "Age                         float64\n",
       "Outcome                       int64\n",
       "dtype: object"
      ]
     },
     "execution_count": 58,
     "metadata": {},
     "output_type": "execute_result"
    }
   ],
   "source": [
    "preprocessed_data.dtypes"
   ]
  },
  {
   "attachments": {},
   "cell_type": "markdown",
   "metadata": {},
   "source": [
    "# Select the best features\n"
   ]
  },
  {
   "cell_type": "code",
   "execution_count": null,
   "metadata": {},
   "outputs": [],
   "source": []
  },
  {
   "attachments": {},
   "cell_type": "markdown",
   "metadata": {},
   "source": [
    "# Evaluation metrics\n"
   ]
  },
  {
   "cell_type": "code",
   "execution_count": 49,
   "metadata": {},
   "outputs": [],
   "source": [
    "from sklearn.metrics import (\n",
    "    accuracy_score,\n",
    "    classification_report,\n",
    "    recall_score,\n",
    "    precision_score,\n",
    "    f1_score,\n",
    "    confusion_matrix,\n",
    ")"
   ]
  },
  {
   "cell_type": "code",
   "execution_count": 50,
   "metadata": {},
   "outputs": [],
   "source": [
    "def print_eval_scores(y_pred_train, y_pred_dev, y_train, y_dev):\n",
    "    accuracy_score_val_train = accuracy_score(y_pred_train, y_train)\n",
    "    accuracy_score_val_dev = accuracy_score(y_pred_dev, y_dev)\n",
    "\n",
    "    print(\"Accuracy score on train set: \", accuracy_score_val_train)\n",
    "    print(\"Accuracy score on dev set: \", accuracy_score_val_dev)\n",
    "\n",
    "    recall_score_val_train = recall_score(y_pred_train, y_train)\n",
    "    recall_score_val_dev = recall_score(y_pred_dev, y_dev)\n",
    "\n",
    "    print(\"Recall score on train set: \", recall_score_val_train)\n",
    "    print(\"Recall score on dev set: \", recall_score_val_dev)\n",
    "\n",
    "    precision_score_val_train = precision_score(y_pred_train, y_train)\n",
    "    precision_score_val_dev = precision_score(y_pred_dev, y_dev)\n",
    "\n",
    "    print(\"Precision score on train set: \", precision_score_val_train)\n",
    "    print(\"Precision score on dev set: \", precision_score_val_dev)\n",
    "\n",
    "    f1_score_val_train = f1_score(y_pred_train, y_train)\n",
    "    f1_score_val_dev = f1_score(y_pred_dev, y_dev)\n",
    "\n",
    "    print(\"F1 score on train set: \", f1_score_val_train)\n",
    "    print(\"F1 score on dev set: \", f1_score_val_dev)\n",
    "\n",
    "    confusion_matrix_val_train = confusion_matrix(y_pred_train, y_train)\n",
    "    confusion_matrix_val_dev = confusion_matrix(y_pred_dev, y_dev)\n",
    "\n",
    "    print(\"Confusion matrix on train set:\")\n",
    "    print(confusion_matrix_val_train)\n",
    "    print()\n",
    "\n",
    "    print(\"Confusion matrix on dev set:\")\n",
    "    print(confusion_matrix_val_dev)\n",
    "    print()\n",
    "\n",
    "    classification_report_val_train = classification_report(y_pred_train, y_train)\n",
    "    classification_report_val_dev = classification_report(y_pred_dev, y_dev)\n",
    "\n",
    "    print(\"Classification report on train set:\")\n",
    "    print(classification_report_val_train)\n",
    "    print()\n",
    "\n",
    "    print(\"Classification report on dev set:\")\n",
    "    print(classification_report_val_dev)\n",
    "    print()"
   ]
  },
  {
   "attachments": {},
   "cell_type": "markdown",
   "metadata": {},
   "source": [
    "# Split the data into train and test\n"
   ]
  },
  {
   "cell_type": "code",
   "execution_count": 51,
   "metadata": {},
   "outputs": [
    {
     "data": {
      "text/plain": [
       "((492, 8), (124, 8), (154, 8))"
      ]
     },
     "execution_count": 51,
     "metadata": {},
     "output_type": "execute_result"
    }
   ],
   "source": [
    "from sklearn.model_selection import train_test_split\n",
    "\n",
    "X = preprocessed_data.drop([\"Patient_ID\", \"Outcome\"], axis=1)\n",
    "y = preprocessed_data[\"Outcome\"]\n",
    "\n",
    "X_train, X_test, y_train, y_test = train_test_split(X, y, test_size=0.2)\n",
    "\n",
    "# split it into train and dev set\n",
    "X_train, X_dev, y_train, y_dev = train_test_split(X_train, y_train, test_size=0.2)\n",
    "\n",
    "# check the shape of the train, dev and test set\n",
    "X_train.shape, X_dev.shape, X_test.shape"
   ]
  },
  {
   "attachments": {},
   "cell_type": "markdown",
   "metadata": {},
   "source": [
    "# Hyper-parameter tuning\n"
   ]
  },
  {
   "attachments": {},
   "cell_type": "markdown",
   "metadata": {},
   "source": [
    "## Note:\n"
   ]
  },
  {
   "attachments": {},
   "cell_type": "markdown",
   "metadata": {},
   "source": [
    "**We can use the following for the scoring**\n",
    "\n",
    "accuracy: The fraction of predictions that are correct.\n",
    "\n",
    "balanced_accuracy: The average of the recall and precision scores.\n",
    "\n",
    "f1_score: The harmonic mean of the recall and precision scores.\n",
    "\n",
    "log_loss: The cross-entropy loss.\n",
    "\n",
    "mean_squared_error: The mean squared error.\n",
    "\n",
    "mean_absolute_error: The mean absolute error.\n",
    "\n",
    "mean_absolute_percentage_error: The mean absolute percentage error.\n",
    "\n",
    "r2: The coefficient of determination.\n"
   ]
  },
  {
   "attachments": {},
   "cell_type": "markdown",
   "metadata": {},
   "source": [
    "**If we want to use any other scoring method, we have to implement the function ourselves.**\n"
   ]
  },
  {
   "attachments": {},
   "cell_type": "markdown",
   "metadata": {},
   "source": [
    "## Search by GridSearchCV\n"
   ]
  },
  {
   "cell_type": "code",
   "execution_count": 52,
   "metadata": {},
   "outputs": [],
   "source": [
    "from sklearn.model_selection import GridSearchCV\n",
    "\n",
    "\n",
    "def tune_by_GridSearchCV(\n",
    "    model, param_grid, X_train, y_train, cross_val_folds=5, scoring_method=\"accuracy\"\n",
    "):\n",
    "    grid_search = GridSearchCV(\n",
    "        model,\n",
    "        param_grid,\n",
    "        cv=cross_val_folds,\n",
    "        scoring=scoring_method,\n",
    "        verbose=1,\n",
    "    )\n",
    "\n",
    "    grid_search.fit(X_train, y_train)\n",
    "\n",
    "    print(\"Best parameters: \", grid_search.best_params_)\n",
    "    print(\"Best score: \", grid_search.best_score_)\n",
    "\n",
    "    # print()\n",
    "    # print(\"The results of the Grid Search CV:\")\n",
    "    # print(grid_search.cv_results_)\n",
    "    # print()\n",
    "\n",
    "    # Returns the best predicted model\n",
    "    return grid_search.best_estimator_"
   ]
  },
  {
   "attachments": {},
   "cell_type": "markdown",
   "metadata": {},
   "source": [
    "## Search by RandomizedSearchCV\n"
   ]
  },
  {
   "cell_type": "code",
   "execution_count": 53,
   "metadata": {},
   "outputs": [],
   "source": [
    "from sklearn.model_selection import RandomizedSearchCV\n",
    "\n",
    "\n",
    "def tune_by_RandomizedSearchCV(\n",
    "    model, param_grid, X_train, y_train, cross_val_folds=5, scoring_method=\"accuracy\"\n",
    "):\n",
    "    random_search = RandomizedSearchCV(\n",
    "        model,\n",
    "        param_grid,\n",
    "        cv=cross_val_folds,\n",
    "        scoring=scoring_method,\n",
    "        verbose=1,\n",
    "    )\n",
    "\n",
    "    random_search.fit(X_train, y_train)\n",
    "\n",
    "    print(\"Best parameters: \", random_search.best_params_)\n",
    "    print(\"Best score: \", random_search.best_score_)\n",
    "\n",
    "    # print()\n",
    "    # print(\"The results of the Randomized Search CV:\")\n",
    "    # print(random_search.cv_results_)\n",
    "    # print()\n",
    "\n",
    "    # Returns the best predicted model\n",
    "    return random_search.best_estimator_"
   ]
  },
  {
   "attachments": {},
   "cell_type": "markdown",
   "metadata": {},
   "source": [
    "# 1. KNN Classifier\n"
   ]
  },
  {
   "cell_type": "code",
   "execution_count": 54,
   "metadata": {},
   "outputs": [
    {
     "name": "stdout",
     "output_type": "stream",
     "text": [
      "Accuracy score on train set:  0.8109756097560976\n",
      "Accuracy score on dev set:  0.75\n",
      "Recall score on train set:  0.7666666666666667\n",
      "Recall score on dev set:  0.6923076923076923\n",
      "Precision score on train set:  0.6647398843930635\n",
      "Precision score on dev set:  0.43902439024390244\n",
      "F1 score on train set:  0.7120743034055728\n",
      "F1 score on dev set:  0.5373134328358209\n",
      "Confusion matrix on train set:\n",
      "[[284  58]\n",
      " [ 35 115]]\n",
      "\n",
      "Confusion matrix on dev set:\n",
      "[[75 23]\n",
      " [ 8 18]]\n",
      "\n",
      "Classification report on train set:\n",
      "              precision    recall  f1-score   support\n",
      "\n",
      "           0       0.89      0.83      0.86       342\n",
      "           1       0.66      0.77      0.71       150\n",
      "\n",
      "    accuracy                           0.81       492\n",
      "   macro avg       0.78      0.80      0.79       492\n",
      "weighted avg       0.82      0.81      0.81       492\n",
      "\n",
      "\n",
      "Classification report on dev set:\n",
      "              precision    recall  f1-score   support\n",
      "\n",
      "           0       0.90      0.77      0.83        98\n",
      "           1       0.44      0.69      0.54        26\n",
      "\n",
      "    accuracy                           0.75       124\n",
      "   macro avg       0.67      0.73      0.68       124\n",
      "weighted avg       0.81      0.75      0.77       124\n",
      "\n",
      "\n"
     ]
    }
   ],
   "source": [
    "from sklearn.neighbors import KNeighborsClassifier\n",
    "\n",
    "knn = KNeighborsClassifier(n_neighbors=5)\n",
    "knn.fit(X_train, y_train)\n",
    "\n",
    "y_pred_train = knn.predict(X_train)\n",
    "y_pred_dev = knn.predict(X_dev)\n",
    "\n",
    "print_eval_scores(y_pred_train, y_pred_dev, y_train, y_dev)"
   ]
  },
  {
   "attachments": {},
   "cell_type": "markdown",
   "metadata": {},
   "source": [
    "## Hyper parameter tuning\n"
   ]
  },
  {
   "cell_type": "code",
   "execution_count": null,
   "metadata": {},
   "outputs": [],
   "source": [
    "param_grid = {\n",
    "    \"n_neighbors\": np.arange(1, 100, 2),\n",
    "    \"weights\": [\"uniform\", \"distance\"],\n",
    "    \"metric\": [\"euclidean\", \"manhattan\", \"chebyshev\"],\n",
    "}\n",
    "\n",
    "knn = KNeighborsClassifier()\n",
    "\n",
    "tuned_model = tune_by_RandomizedSearchCV(knn, param_grid, X_train, y_train)"
   ]
  },
  {
   "cell_type": "code",
   "execution_count": null,
   "metadata": {},
   "outputs": [],
   "source": [
    "y_pred_train = tuned_model.predict(X_train)\n",
    "y_pred_dev = tuned_model.predict(X_dev)\n",
    "\n",
    "print_eval_scores(y_pred_train, y_pred_dev, y_train, y_dev)"
   ]
  },
  {
   "cell_type": "code",
   "execution_count": null,
   "metadata": {},
   "outputs": [],
   "source": [
    "knn = KNeighborsClassifier()\n",
    "\n",
    "tuned_model = tune_by_GridSearchCV(knn, param_grid, X_train, y_train)\n",
    "\n",
    "y_pred_train = tuned_model.predict(X_train)\n",
    "y_pred_dev = tuned_model.predict(X_dev)\n",
    "\n",
    "print_eval_scores(y_pred_train, y_pred_dev, y_train, y_dev)"
   ]
  },
  {
   "attachments": {},
   "cell_type": "markdown",
   "metadata": {},
   "source": [
    "# 2. Logistic Regression\n"
   ]
  },
  {
   "cell_type": "code",
   "execution_count": null,
   "metadata": {},
   "outputs": [],
   "source": [
    "from sklearn.linear_model import LogisticRegression\n",
    "\n",
    "log_reg = LogisticRegression()\n",
    "\n",
    "log_reg.fit(X_train, y_train)\n",
    "\n",
    "y_pred_train = log_reg.predict(X_train)\n",
    "y_pred_dev = log_reg.predict(X_dev)\n",
    "\n",
    "print_eval_scores(y_pred_train, y_pred_dev, y_train, y_dev)"
   ]
  },
  {
   "attachments": {},
   "cell_type": "markdown",
   "metadata": {},
   "source": [
    "## Hyper-parameter tuning\n"
   ]
  },
  {
   "cell_type": "code",
   "execution_count": null,
   "metadata": {},
   "outputs": [],
   "source": [
    "param_grid = {\n",
    "    \"penalty\": [\"l1\", \"l2\", \"elasticnet\", \"none\"],\n",
    "    \"C\": np.logspace(-4, 4, 20),\n",
    "    \"solver\": [\"newton-cg\", \"lbfgs\", \"liblinear\", \"sag\", \"saga\"],\n",
    "    \"max_iter\": [100, 1000, 2500, 5000],\n",
    "}\n",
    "\n",
    "log_reg = LogisticRegression()\n",
    "\n",
    "tuned_model = tune_by_RandomizedSearchCV(log_reg, param_grid, X_train, y_train)\n",
    "\n",
    "y_pred_train = tuned_model.predict(X_train)\n",
    "y_pred_dev = tuned_model.predict(X_dev)\n",
    "\n",
    "print_eval_scores(y_pred_train, y_pred_dev, y_train, y_dev)"
   ]
  },
  {
   "cell_type": "code",
   "execution_count": null,
   "metadata": {},
   "outputs": [],
   "source": [
    "log_reg = LogisticRegression()\n",
    "\n",
    "tuned_model = tune_by_GridSearchCV(log_reg, param_grid, X_train, y_train)\n",
    "\n",
    "y_pred_train = tuned_model.predict(X_train)\n",
    "y_pred_dev = tuned_model.predict(X_dev)\n",
    "\n",
    "print_eval_scores(y_pred_train, y_pred_dev, y_train, y_dev)"
   ]
  },
  {
   "attachments": {},
   "cell_type": "markdown",
   "metadata": {},
   "source": [
    "# 3. Random Forest\n"
   ]
  },
  {
   "cell_type": "code",
   "execution_count": 55,
   "metadata": {},
   "outputs": [
    {
     "name": "stdout",
     "output_type": "stream",
     "text": [
      "Accuracy score on train set:  1.0\n",
      "Accuracy score on dev set:  0.7580645161290323\n",
      "Recall score on train set:  1.0\n",
      "Recall score on dev set:  0.7037037037037037\n",
      "Precision score on train set:  1.0\n",
      "Precision score on dev set:  0.4634146341463415\n",
      "F1 score on train set:  1.0\n",
      "F1 score on dev set:  0.5588235294117647\n",
      "Confusion matrix on train set:\n",
      "[[319   0]\n",
      " [  0 173]]\n",
      "\n",
      "Confusion matrix on dev set:\n",
      "[[75 22]\n",
      " [ 8 19]]\n",
      "\n",
      "Classification report on train set:\n",
      "              precision    recall  f1-score   support\n",
      "\n",
      "           0       1.00      1.00      1.00       319\n",
      "           1       1.00      1.00      1.00       173\n",
      "\n",
      "    accuracy                           1.00       492\n",
      "   macro avg       1.00      1.00      1.00       492\n",
      "weighted avg       1.00      1.00      1.00       492\n",
      "\n",
      "\n",
      "Classification report on dev set:\n",
      "              precision    recall  f1-score   support\n",
      "\n",
      "           0       0.90      0.77      0.83        97\n",
      "           1       0.46      0.70      0.56        27\n",
      "\n",
      "    accuracy                           0.76       124\n",
      "   macro avg       0.68      0.74      0.70       124\n",
      "weighted avg       0.81      0.76      0.77       124\n",
      "\n",
      "\n"
     ]
    }
   ],
   "source": [
    "from sklearn.ensemble import RandomForestClassifier\n",
    "\n",
    "rf = RandomForestClassifier()\n",
    "\n",
    "rf.fit(X_train, y_train)\n",
    "\n",
    "y_pred_train = rf.predict(X_train)\n",
    "y_pred_dev = rf.predict(X_dev)\n",
    "\n",
    "print_eval_scores(y_pred_train, y_pred_dev, y_train, y_dev)"
   ]
  },
  {
   "attachments": {},
   "cell_type": "markdown",
   "metadata": {},
   "source": [
    "## Hyper-parameter tuning\n"
   ]
  },
  {
   "cell_type": "code",
   "execution_count": 56,
   "metadata": {},
   "outputs": [
    {
     "name": "stdout",
     "output_type": "stream",
     "text": [
      "Fitting 5 folds for each of 10 candidates, totalling 50 fits\n"
     ]
    },
    {
     "name": "stderr",
     "output_type": "stream",
     "text": [
      "d:\\University\\Academics_2020_4th_Sem\\DS ML Templates\\.venv\\Lib\\site-packages\\sklearn\\ensemble\\_forest.py:777: UserWarning: class_weight presets \"balanced\" or \"balanced_subsample\" are not recommended for warm_start if the fitted data differs from the full dataset. In order to use \"balanced\" weights, use compute_class_weight (\"balanced\", classes, y). In place of y you can use a large enough sample of the full training set target to properly estimate the class frequency distributions. Pass the resulting weights as the class_weight parameter.\n",
      "  warn(\n",
      "d:\\University\\Academics_2020_4th_Sem\\DS ML Templates\\.venv\\Lib\\site-packages\\sklearn\\ensemble\\_forest.py:424: FutureWarning: `max_features='auto'` has been deprecated in 1.1 and will be removed in 1.3. To keep the past behaviour, explicitly set `max_features='sqrt'` or remove this parameter as it is also the default value for RandomForestClassifiers and ExtraTreesClassifiers.\n",
      "  warn(\n",
      "d:\\University\\Academics_2020_4th_Sem\\DS ML Templates\\.venv\\Lib\\site-packages\\sklearn\\ensemble\\_forest.py:777: UserWarning: class_weight presets \"balanced\" or \"balanced_subsample\" are not recommended for warm_start if the fitted data differs from the full dataset. In order to use \"balanced\" weights, use compute_class_weight (\"balanced\", classes, y). In place of y you can use a large enough sample of the full training set target to properly estimate the class frequency distributions. Pass the resulting weights as the class_weight parameter.\n",
      "  warn(\n",
      "d:\\University\\Academics_2020_4th_Sem\\DS ML Templates\\.venv\\Lib\\site-packages\\sklearn\\ensemble\\_forest.py:424: FutureWarning: `max_features='auto'` has been deprecated in 1.1 and will be removed in 1.3. To keep the past behaviour, explicitly set `max_features='sqrt'` or remove this parameter as it is also the default value for RandomForestClassifiers and ExtraTreesClassifiers.\n",
      "  warn(\n",
      "d:\\University\\Academics_2020_4th_Sem\\DS ML Templates\\.venv\\Lib\\site-packages\\sklearn\\ensemble\\_forest.py:777: UserWarning: class_weight presets \"balanced\" or \"balanced_subsample\" are not recommended for warm_start if the fitted data differs from the full dataset. In order to use \"balanced\" weights, use compute_class_weight (\"balanced\", classes, y). In place of y you can use a large enough sample of the full training set target to properly estimate the class frequency distributions. Pass the resulting weights as the class_weight parameter.\n",
      "  warn(\n",
      "d:\\University\\Academics_2020_4th_Sem\\DS ML Templates\\.venv\\Lib\\site-packages\\sklearn\\ensemble\\_forest.py:424: FutureWarning: `max_features='auto'` has been deprecated in 1.1 and will be removed in 1.3. To keep the past behaviour, explicitly set `max_features='sqrt'` or remove this parameter as it is also the default value for RandomForestClassifiers and ExtraTreesClassifiers.\n",
      "  warn(\n",
      "d:\\University\\Academics_2020_4th_Sem\\DS ML Templates\\.venv\\Lib\\site-packages\\sklearn\\ensemble\\_forest.py:777: UserWarning: class_weight presets \"balanced\" or \"balanced_subsample\" are not recommended for warm_start if the fitted data differs from the full dataset. In order to use \"balanced\" weights, use compute_class_weight (\"balanced\", classes, y). In place of y you can use a large enough sample of the full training set target to properly estimate the class frequency distributions. Pass the resulting weights as the class_weight parameter.\n",
      "  warn(\n",
      "d:\\University\\Academics_2020_4th_Sem\\DS ML Templates\\.venv\\Lib\\site-packages\\sklearn\\ensemble\\_forest.py:424: FutureWarning: `max_features='auto'` has been deprecated in 1.1 and will be removed in 1.3. To keep the past behaviour, explicitly set `max_features='sqrt'` or remove this parameter as it is also the default value for RandomForestClassifiers and ExtraTreesClassifiers.\n",
      "  warn(\n",
      "d:\\University\\Academics_2020_4th_Sem\\DS ML Templates\\.venv\\Lib\\site-packages\\sklearn\\ensemble\\_forest.py:777: UserWarning: class_weight presets \"balanced\" or \"balanced_subsample\" are not recommended for warm_start if the fitted data differs from the full dataset. In order to use \"balanced\" weights, use compute_class_weight (\"balanced\", classes, y). In place of y you can use a large enough sample of the full training set target to properly estimate the class frequency distributions. Pass the resulting weights as the class_weight parameter.\n",
      "  warn(\n",
      "d:\\University\\Academics_2020_4th_Sem\\DS ML Templates\\.venv\\Lib\\site-packages\\sklearn\\ensemble\\_forest.py:424: FutureWarning: `max_features='auto'` has been deprecated in 1.1 and will be removed in 1.3. To keep the past behaviour, explicitly set `max_features='sqrt'` or remove this parameter as it is also the default value for RandomForestClassifiers and ExtraTreesClassifiers.\n",
      "  warn(\n",
      "d:\\University\\Academics_2020_4th_Sem\\DS ML Templates\\.venv\\Lib\\site-packages\\sklearn\\ensemble\\_forest.py:424: FutureWarning: `max_features='auto'` has been deprecated in 1.1 and will be removed in 1.3. To keep the past behaviour, explicitly set `max_features='sqrt'` or remove this parameter as it is also the default value for RandomForestClassifiers and ExtraTreesClassifiers.\n",
      "  warn(\n",
      "d:\\University\\Academics_2020_4th_Sem\\DS ML Templates\\.venv\\Lib\\site-packages\\sklearn\\ensemble\\_forest.py:424: FutureWarning: `max_features='auto'` has been deprecated in 1.1 and will be removed in 1.3. To keep the past behaviour, explicitly set `max_features='sqrt'` or remove this parameter as it is also the default value for RandomForestClassifiers and ExtraTreesClassifiers.\n",
      "  warn(\n",
      "d:\\University\\Academics_2020_4th_Sem\\DS ML Templates\\.venv\\Lib\\site-packages\\sklearn\\ensemble\\_forest.py:424: FutureWarning: `max_features='auto'` has been deprecated in 1.1 and will be removed in 1.3. To keep the past behaviour, explicitly set `max_features='sqrt'` or remove this parameter as it is also the default value for RandomForestClassifiers and ExtraTreesClassifiers.\n",
      "  warn(\n",
      "d:\\University\\Academics_2020_4th_Sem\\DS ML Templates\\.venv\\Lib\\site-packages\\sklearn\\ensemble\\_forest.py:424: FutureWarning: `max_features='auto'` has been deprecated in 1.1 and will be removed in 1.3. To keep the past behaviour, explicitly set `max_features='sqrt'` or remove this parameter as it is also the default value for RandomForestClassifiers and ExtraTreesClassifiers.\n",
      "  warn(\n",
      "d:\\University\\Academics_2020_4th_Sem\\DS ML Templates\\.venv\\Lib\\site-packages\\sklearn\\ensemble\\_forest.py:424: FutureWarning: `max_features='auto'` has been deprecated in 1.1 and will be removed in 1.3. To keep the past behaviour, explicitly set `max_features='sqrt'` or remove this parameter as it is also the default value for RandomForestClassifiers and ExtraTreesClassifiers.\n",
      "  warn(\n",
      "d:\\University\\Academics_2020_4th_Sem\\DS ML Templates\\.venv\\Lib\\site-packages\\sklearn\\ensemble\\_forest.py:424: FutureWarning: `max_features='auto'` has been deprecated in 1.1 and will be removed in 1.3. To keep the past behaviour, explicitly set `max_features='sqrt'` or remove this parameter as it is also the default value for RandomForestClassifiers and ExtraTreesClassifiers.\n",
      "  warn(\n",
      "d:\\University\\Academics_2020_4th_Sem\\DS ML Templates\\.venv\\Lib\\site-packages\\sklearn\\ensemble\\_forest.py:424: FutureWarning: `max_features='auto'` has been deprecated in 1.1 and will be removed in 1.3. To keep the past behaviour, explicitly set `max_features='sqrt'` or remove this parameter as it is also the default value for RandomForestClassifiers and ExtraTreesClassifiers.\n",
      "  warn(\n",
      "d:\\University\\Academics_2020_4th_Sem\\DS ML Templates\\.venv\\Lib\\site-packages\\sklearn\\ensemble\\_forest.py:424: FutureWarning: `max_features='auto'` has been deprecated in 1.1 and will be removed in 1.3. To keep the past behaviour, explicitly set `max_features='sqrt'` or remove this parameter as it is also the default value for RandomForestClassifiers and ExtraTreesClassifiers.\n",
      "  warn(\n",
      "d:\\University\\Academics_2020_4th_Sem\\DS ML Templates\\.venv\\Lib\\site-packages\\sklearn\\ensemble\\_forest.py:424: FutureWarning: `max_features='auto'` has been deprecated in 1.1 and will be removed in 1.3. To keep the past behaviour, explicitly set `max_features='sqrt'` or remove this parameter as it is also the default value for RandomForestClassifiers and ExtraTreesClassifiers.\n",
      "  warn(\n",
      "d:\\University\\Academics_2020_4th_Sem\\DS ML Templates\\.venv\\Lib\\site-packages\\sklearn\\ensemble\\_forest.py:424: FutureWarning: `max_features='auto'` has been deprecated in 1.1 and will be removed in 1.3. To keep the past behaviour, explicitly set `max_features='sqrt'` or remove this parameter as it is also the default value for RandomForestClassifiers and ExtraTreesClassifiers.\n",
      "  warn(\n",
      "d:\\University\\Academics_2020_4th_Sem\\DS ML Templates\\.venv\\Lib\\site-packages\\sklearn\\ensemble\\_forest.py:777: UserWarning: class_weight presets \"balanced\" or \"balanced_subsample\" are not recommended for warm_start if the fitted data differs from the full dataset. In order to use \"balanced\" weights, use compute_class_weight (\"balanced\", classes, y). In place of y you can use a large enough sample of the full training set target to properly estimate the class frequency distributions. Pass the resulting weights as the class_weight parameter.\n",
      "  warn(\n",
      "d:\\University\\Academics_2020_4th_Sem\\DS ML Templates\\.venv\\Lib\\site-packages\\sklearn\\ensemble\\_forest.py:777: UserWarning: class_weight presets \"balanced\" or \"balanced_subsample\" are not recommended for warm_start if the fitted data differs from the full dataset. In order to use \"balanced\" weights, use compute_class_weight (\"balanced\", classes, y). In place of y you can use a large enough sample of the full training set target to properly estimate the class frequency distributions. Pass the resulting weights as the class_weight parameter.\n",
      "  warn(\n",
      "d:\\University\\Academics_2020_4th_Sem\\DS ML Templates\\.venv\\Lib\\site-packages\\sklearn\\ensemble\\_forest.py:777: UserWarning: class_weight presets \"balanced\" or \"balanced_subsample\" are not recommended for warm_start if the fitted data differs from the full dataset. In order to use \"balanced\" weights, use compute_class_weight (\"balanced\", classes, y). In place of y you can use a large enough sample of the full training set target to properly estimate the class frequency distributions. Pass the resulting weights as the class_weight parameter.\n",
      "  warn(\n",
      "d:\\University\\Academics_2020_4th_Sem\\DS ML Templates\\.venv\\Lib\\site-packages\\sklearn\\ensemble\\_forest.py:777: UserWarning: class_weight presets \"balanced\" or \"balanced_subsample\" are not recommended for warm_start if the fitted data differs from the full dataset. In order to use \"balanced\" weights, use compute_class_weight (\"balanced\", classes, y). In place of y you can use a large enough sample of the full training set target to properly estimate the class frequency distributions. Pass the resulting weights as the class_weight parameter.\n",
      "  warn(\n",
      "d:\\University\\Academics_2020_4th_Sem\\DS ML Templates\\.venv\\Lib\\site-packages\\sklearn\\ensemble\\_forest.py:777: UserWarning: class_weight presets \"balanced\" or \"balanced_subsample\" are not recommended for warm_start if the fitted data differs from the full dataset. In order to use \"balanced\" weights, use compute_class_weight (\"balanced\", classes, y). In place of y you can use a large enough sample of the full training set target to properly estimate the class frequency distributions. Pass the resulting weights as the class_weight parameter.\n",
      "  warn(\n",
      "d:\\University\\Academics_2020_4th_Sem\\DS ML Templates\\.venv\\Lib\\site-packages\\sklearn\\ensemble\\_forest.py:424: FutureWarning: `max_features='auto'` has been deprecated in 1.1 and will be removed in 1.3. To keep the past behaviour, explicitly set `max_features='sqrt'` or remove this parameter as it is also the default value for RandomForestClassifiers and ExtraTreesClassifiers.\n",
      "  warn(\n",
      "d:\\University\\Academics_2020_4th_Sem\\DS ML Templates\\.venv\\Lib\\site-packages\\sklearn\\ensemble\\_forest.py:424: FutureWarning: `max_features='auto'` has been deprecated in 1.1 and will be removed in 1.3. To keep the past behaviour, explicitly set `max_features='sqrt'` or remove this parameter as it is also the default value for RandomForestClassifiers and ExtraTreesClassifiers.\n",
      "  warn(\n",
      "d:\\University\\Academics_2020_4th_Sem\\DS ML Templates\\.venv\\Lib\\site-packages\\sklearn\\ensemble\\_forest.py:424: FutureWarning: `max_features='auto'` has been deprecated in 1.1 and will be removed in 1.3. To keep the past behaviour, explicitly set `max_features='sqrt'` or remove this parameter as it is also the default value for RandomForestClassifiers and ExtraTreesClassifiers.\n",
      "  warn(\n",
      "d:\\University\\Academics_2020_4th_Sem\\DS ML Templates\\.venv\\Lib\\site-packages\\sklearn\\ensemble\\_forest.py:424: FutureWarning: `max_features='auto'` has been deprecated in 1.1 and will be removed in 1.3. To keep the past behaviour, explicitly set `max_features='sqrt'` or remove this parameter as it is also the default value for RandomForestClassifiers and ExtraTreesClassifiers.\n",
      "  warn(\n",
      "d:\\University\\Academics_2020_4th_Sem\\DS ML Templates\\.venv\\Lib\\site-packages\\sklearn\\ensemble\\_forest.py:424: FutureWarning: `max_features='auto'` has been deprecated in 1.1 and will be removed in 1.3. To keep the past behaviour, explicitly set `max_features='sqrt'` or remove this parameter as it is also the default value for RandomForestClassifiers and ExtraTreesClassifiers.\n",
      "  warn(\n",
      "d:\\University\\Academics_2020_4th_Sem\\DS ML Templates\\.venv\\Lib\\site-packages\\sklearn\\ensemble\\_forest.py:777: UserWarning: class_weight presets \"balanced\" or \"balanced_subsample\" are not recommended for warm_start if the fitted data differs from the full dataset. In order to use \"balanced\" weights, use compute_class_weight (\"balanced\", classes, y). In place of y you can use a large enough sample of the full training set target to properly estimate the class frequency distributions. Pass the resulting weights as the class_weight parameter.\n",
      "  warn(\n",
      "d:\\University\\Academics_2020_4th_Sem\\DS ML Templates\\.venv\\Lib\\site-packages\\sklearn\\ensemble\\_forest.py:777: UserWarning: class_weight presets \"balanced\" or \"balanced_subsample\" are not recommended for warm_start if the fitted data differs from the full dataset. In order to use \"balanced\" weights, use compute_class_weight (\"balanced\", classes, y). In place of y you can use a large enough sample of the full training set target to properly estimate the class frequency distributions. Pass the resulting weights as the class_weight parameter.\n",
      "  warn(\n",
      "d:\\University\\Academics_2020_4th_Sem\\DS ML Templates\\.venv\\Lib\\site-packages\\sklearn\\ensemble\\_forest.py:777: UserWarning: class_weight presets \"balanced\" or \"balanced_subsample\" are not recommended for warm_start if the fitted data differs from the full dataset. In order to use \"balanced\" weights, use compute_class_weight (\"balanced\", classes, y). In place of y you can use a large enough sample of the full training set target to properly estimate the class frequency distributions. Pass the resulting weights as the class_weight parameter.\n",
      "  warn(\n",
      "d:\\University\\Academics_2020_4th_Sem\\DS ML Templates\\.venv\\Lib\\site-packages\\sklearn\\ensemble\\_forest.py:777: UserWarning: class_weight presets \"balanced\" or \"balanced_subsample\" are not recommended for warm_start if the fitted data differs from the full dataset. In order to use \"balanced\" weights, use compute_class_weight (\"balanced\", classes, y). In place of y you can use a large enough sample of the full training set target to properly estimate the class frequency distributions. Pass the resulting weights as the class_weight parameter.\n",
      "  warn(\n",
      "d:\\University\\Academics_2020_4th_Sem\\DS ML Templates\\.venv\\Lib\\site-packages\\sklearn\\ensemble\\_forest.py:777: UserWarning: class_weight presets \"balanced\" or \"balanced_subsample\" are not recommended for warm_start if the fitted data differs from the full dataset. In order to use \"balanced\" weights, use compute_class_weight (\"balanced\", classes, y). In place of y you can use a large enough sample of the full training set target to properly estimate the class frequency distributions. Pass the resulting weights as the class_weight parameter.\n",
      "  warn(\n",
      "d:\\University\\Academics_2020_4th_Sem\\DS ML Templates\\.venv\\Lib\\site-packages\\sklearn\\model_selection\\_validation.py:378: FitFailedWarning: \n",
      "25 fits failed out of a total of 50.\n",
      "The score on these train-test partitions for these parameters will be set to nan.\n",
      "If these failures are not expected, you can try to debug them by setting error_score='raise'.\n",
      "\n",
      "Below are more details about the failures:\n",
      "--------------------------------------------------------------------------------\n",
      "25 fits failed with the following error:\n",
      "Traceback (most recent call last):\n",
      "  File \"d:\\University\\Academics_2020_4th_Sem\\DS ML Templates\\.venv\\Lib\\site-packages\\sklearn\\model_selection\\_validation.py\", line 686, in _fit_and_score\n",
      "    estimator.fit(X_train, y_train, **fit_params)\n",
      "  File \"d:\\University\\Academics_2020_4th_Sem\\DS ML Templates\\.venv\\Lib\\site-packages\\sklearn\\ensemble\\_forest.py\", line 434, in fit\n",
      "    raise ValueError(\"Out of bag estimation only available if bootstrap=True\")\n",
      "ValueError: Out of bag estimation only available if bootstrap=True\n",
      "\n",
      "  warnings.warn(some_fits_failed_message, FitFailedWarning)\n",
      "d:\\University\\Academics_2020_4th_Sem\\DS ML Templates\\.venv\\Lib\\site-packages\\sklearn\\model_selection\\_search.py:952: UserWarning: One or more of the test scores are non-finite: [       nan        nan 0.75992579        nan        nan 0.67476809\n",
      "        nan 0.74588745 0.77425273 0.7723356 ]\n",
      "  warnings.warn(\n"
     ]
    },
    {
     "name": "stdout",
     "output_type": "stream",
     "text": [
      "Best parameters:  {'warm_start': False, 'oob_score': False, 'n_estimators': 1000, 'min_samples_split': 2, 'min_samples_leaf': 5, 'max_features': 'sqrt', 'max_depth': 60, 'criterion': 'entropy', 'class_weight': None, 'bootstrap': False}\n",
      "Best score:  0.7742527313955886\n",
      "Accuracy score on train set:  0.959349593495935\n",
      "Accuracy score on dev set:  0.7419354838709677\n",
      "Recall score on train set:  0.9580838323353293\n",
      "Recall score on dev set:  0.6666666666666666\n",
      "Precision score on train set:  0.9248554913294798\n",
      "Precision score on dev set:  0.43902439024390244\n",
      "F1 score on train set:  0.9411764705882353\n",
      "F1 score on dev set:  0.5294117647058824\n",
      "Confusion matrix on train set:\n",
      "[[312  13]\n",
      " [  7 160]]\n",
      "\n",
      "Confusion matrix on dev set:\n",
      "[[74 23]\n",
      " [ 9 18]]\n",
      "\n",
      "Classification report on train set:\n",
      "              precision    recall  f1-score   support\n",
      "\n",
      "           0       0.98      0.96      0.97       325\n",
      "           1       0.92      0.96      0.94       167\n",
      "\n",
      "    accuracy                           0.96       492\n",
      "   macro avg       0.95      0.96      0.96       492\n",
      "weighted avg       0.96      0.96      0.96       492\n",
      "\n",
      "\n",
      "Classification report on dev set:\n",
      "              precision    recall  f1-score   support\n",
      "\n",
      "           0       0.89      0.76      0.82        97\n",
      "           1       0.44      0.67      0.53        27\n",
      "\n",
      "    accuracy                           0.74       124\n",
      "   macro avg       0.67      0.71      0.68       124\n",
      "weighted avg       0.79      0.74      0.76       124\n",
      "\n",
      "\n"
     ]
    }
   ],
   "source": [
    "rf = RandomForestClassifier()\n",
    "\n",
    "param_grid = {\n",
    "    \"n_estimators\": [100, 200, 500, 1000],\n",
    "    \"criterion\": [\"gini\", \"entropy\"],\n",
    "    \"max_depth\": [i for i in range(3, 100)],\n",
    "    \"min_samples_split\": [2, 5, 10, 20, 50, 100],\n",
    "    \"min_samples_leaf\": [1, 2, 5, 10, 20, 50, 100],\n",
    "    \"max_features\": [\"auto\", \"sqrt\", \"log2\"],\n",
    "    \"bootstrap\": [True, False],\n",
    "    \"oob_score\": [True, False],\n",
    "    \"warm_start\": [True, False],\n",
    "    \"class_weight\": [\"balanced\", \"balanced_subsample\", None],\n",
    "}\n",
    "\n",
    "tuned_model = tune_by_RandomizedSearchCV(rf, param_grid, X_train, y_train)\n",
    "\n",
    "y_pred_train = tuned_model.predict(X_train)\n",
    "y_pred_dev = tuned_model.predict(X_dev)\n",
    "\n",
    "print_eval_scores(y_pred_train, y_pred_dev, y_train, y_dev)"
   ]
  },
  {
   "cell_type": "code",
   "execution_count": 57,
   "metadata": {},
   "outputs": [],
   "source": [
    "feature_names = X_train.columns.to_list()"
   ]
  },
  {
   "attachments": {},
   "cell_type": "markdown",
   "metadata": {},
   "source": [
    "## Visualize the decision tree\n"
   ]
  },
  {
   "attachments": {},
   "cell_type": "markdown",
   "metadata": {},
   "source": [
    "Here we will select a tree to visualize, and set the maximum depth of the tree to 3 levels.\n",
    "\n",
    "The number of estimators we pass in the RandomForestClassifier is the number of trees in the forest.\n"
   ]
  },
  {
   "cell_type": "code",
   "execution_count": null,
   "metadata": {},
   "outputs": [],
   "source": [
    "# from sklearn import tree\n",
    "# import matplotlib.pyplot as plt\n",
    "# fig, _ = plt.subplots(nrows=1, ncols=1, figsize=(100,50), dpi=300)\n",
    "# decision_tree = tuned_model.estimators_[0]\n",
    "# tree.plot_tree(\n",
    "#     decision_tree,\n",
    "#     feature_names=feature_names,\n",
    "#     filled=True\n",
    "# )\n",
    "# fig.savefig('tree.png')"
   ]
  },
  {
   "attachments": {},
   "cell_type": "markdown",
   "metadata": {},
   "source": [
    "## Visualize with shapely"
   ]
  },
  {
   "cell_type": "code",
   "execution_count": 72,
   "metadata": {},
   "outputs": [
    {
     "ename": "InvalidIndexError",
     "evalue": "(slice(None, None, None), 0)",
     "output_type": "error",
     "traceback": [
      "\u001b[1;31m---------------------------------------------------------------------------\u001b[0m",
      "\u001b[1;31mTypeError\u001b[0m                                 Traceback (most recent call last)",
      "File \u001b[1;32md:\\University\\Academics_2020_4th_Sem\\DS ML Templates\\.venv\\Lib\\site-packages\\pandas\\core\\indexes\\base.py:3652\u001b[0m, in \u001b[0;36mIndex.get_loc\u001b[1;34m(self, key)\u001b[0m\n\u001b[0;32m   3651\u001b[0m \u001b[39mtry\u001b[39;00m:\n\u001b[1;32m-> 3652\u001b[0m     \u001b[39mreturn\u001b[39;00m \u001b[39mself\u001b[39;49m\u001b[39m.\u001b[39;49m_engine\u001b[39m.\u001b[39;49mget_loc(casted_key)\n\u001b[0;32m   3653\u001b[0m \u001b[39mexcept\u001b[39;00m \u001b[39mKeyError\u001b[39;00m \u001b[39mas\u001b[39;00m err:\n",
      "File \u001b[1;32md:\\University\\Academics_2020_4th_Sem\\DS ML Templates\\.venv\\Lib\\site-packages\\pandas\\_libs\\index.pyx:147\u001b[0m, in \u001b[0;36mpandas._libs.index.IndexEngine.get_loc\u001b[1;34m()\u001b[0m\n",
      "File \u001b[1;32md:\\University\\Academics_2020_4th_Sem\\DS ML Templates\\.venv\\Lib\\site-packages\\pandas\\_libs\\index.pyx:153\u001b[0m, in \u001b[0;36mpandas._libs.index.IndexEngine.get_loc\u001b[1;34m()\u001b[0m\n",
      "\u001b[1;31mTypeError\u001b[0m: '(slice(None, None, None), 0)' is an invalid key",
      "\nDuring handling of the above exception, another exception occurred:\n",
      "\u001b[1;31mInvalidIndexError\u001b[0m                         Traceback (most recent call last)",
      "Cell \u001b[1;32mIn[72], line 18\u001b[0m\n\u001b[0;32m     16\u001b[0m \u001b[39m# Plot the data and the polygons\u001b[39;00m\n\u001b[0;32m     17\u001b[0m fig, ax \u001b[39m=\u001b[39m plt\u001b[39m.\u001b[39msubplots()\n\u001b[1;32m---> 18\u001b[0m ax\u001b[39m.\u001b[39mscatter(X_train[:, \u001b[39m0\u001b[39;49m], X_train[:, \u001b[39m1\u001b[39m], c\u001b[39m=\u001b[39my_train, cmap\u001b[39m=\u001b[39m\u001b[39m'\u001b[39m\u001b[39mcool\u001b[39m\u001b[39m'\u001b[39m)\n\u001b[0;32m     19\u001b[0m \u001b[39mfor\u001b[39;00m polygon \u001b[39min\u001b[39;00m polygons:\n\u001b[0;32m     20\u001b[0m   ax\u001b[39m.\u001b[39mplot(\u001b[39m*\u001b[39mpolygon\u001b[39m.\u001b[39mexterior\u001b[39m.\u001b[39mxy, color\u001b[39m=\u001b[39m\u001b[39m'\u001b[39m\u001b[39mblack\u001b[39m\u001b[39m'\u001b[39m)\n",
      "File \u001b[1;32md:\\University\\Academics_2020_4th_Sem\\DS ML Templates\\.venv\\Lib\\site-packages\\pandas\\core\\frame.py:3761\u001b[0m, in \u001b[0;36mDataFrame.__getitem__\u001b[1;34m(self, key)\u001b[0m\n\u001b[0;32m   3759\u001b[0m \u001b[39mif\u001b[39;00m \u001b[39mself\u001b[39m\u001b[39m.\u001b[39mcolumns\u001b[39m.\u001b[39mnlevels \u001b[39m>\u001b[39m \u001b[39m1\u001b[39m:\n\u001b[0;32m   3760\u001b[0m     \u001b[39mreturn\u001b[39;00m \u001b[39mself\u001b[39m\u001b[39m.\u001b[39m_getitem_multilevel(key)\n\u001b[1;32m-> 3761\u001b[0m indexer \u001b[39m=\u001b[39m \u001b[39mself\u001b[39;49m\u001b[39m.\u001b[39;49mcolumns\u001b[39m.\u001b[39;49mget_loc(key)\n\u001b[0;32m   3762\u001b[0m \u001b[39mif\u001b[39;00m is_integer(indexer):\n\u001b[0;32m   3763\u001b[0m     indexer \u001b[39m=\u001b[39m [indexer]\n",
      "File \u001b[1;32md:\\University\\Academics_2020_4th_Sem\\DS ML Templates\\.venv\\Lib\\site-packages\\pandas\\core\\indexes\\base.py:3659\u001b[0m, in \u001b[0;36mIndex.get_loc\u001b[1;34m(self, key)\u001b[0m\n\u001b[0;32m   3654\u001b[0m     \u001b[39mraise\u001b[39;00m \u001b[39mKeyError\u001b[39;00m(key) \u001b[39mfrom\u001b[39;00m \u001b[39merr\u001b[39;00m\n\u001b[0;32m   3655\u001b[0m \u001b[39mexcept\u001b[39;00m \u001b[39mTypeError\u001b[39;00m:\n\u001b[0;32m   3656\u001b[0m     \u001b[39m# If we have a listlike key, _check_indexing_error will raise\u001b[39;00m\n\u001b[0;32m   3657\u001b[0m     \u001b[39m#  InvalidIndexError. Otherwise we fall through and re-raise\u001b[39;00m\n\u001b[0;32m   3658\u001b[0m     \u001b[39m#  the TypeError.\u001b[39;00m\n\u001b[1;32m-> 3659\u001b[0m     \u001b[39mself\u001b[39;49m\u001b[39m.\u001b[39;49m_check_indexing_error(key)\n\u001b[0;32m   3660\u001b[0m     \u001b[39mraise\u001b[39;00m\n",
      "File \u001b[1;32md:\\University\\Academics_2020_4th_Sem\\DS ML Templates\\.venv\\Lib\\site-packages\\pandas\\core\\indexes\\base.py:5736\u001b[0m, in \u001b[0;36mIndex._check_indexing_error\u001b[1;34m(self, key)\u001b[0m\n\u001b[0;32m   5732\u001b[0m \u001b[39mdef\u001b[39;00m \u001b[39m_check_indexing_error\u001b[39m(\u001b[39mself\u001b[39m, key):\n\u001b[0;32m   5733\u001b[0m     \u001b[39mif\u001b[39;00m \u001b[39mnot\u001b[39;00m is_scalar(key):\n\u001b[0;32m   5734\u001b[0m         \u001b[39m# if key is not a scalar, directly raise an error (the code below\u001b[39;00m\n\u001b[0;32m   5735\u001b[0m         \u001b[39m# would convert to numpy arrays and raise later any way) - GH29926\u001b[39;00m\n\u001b[1;32m-> 5736\u001b[0m         \u001b[39mraise\u001b[39;00m InvalidIndexError(key)\n",
      "\u001b[1;31mInvalidIndexError\u001b[0m: (slice(None, None, None), 0)"
     ]
    },
    {
     "data": {
      "image/png": "[encoded data removed]",
      "text/plain": [
       "<Figure size 640x480 with 1 Axes>"
      ]
     },
     "metadata": {},
     "output_type": "display_data"
    }
   ],
   "source": [
    "from shapely.geometry import Polygon\n",
    "\n",
    "rf = RandomForestClassifier()\n",
    "\n",
    "rf.fit(X_train, y_train)\n",
    "\n",
    "# Calculate the feature importances\n",
    "feature_importances = rf.feature_importances_\n",
    "\n",
    "# Create a polygon for each feature\n",
    "polygons = []\n",
    "for i in range(len(feature_names)):\n",
    "  points = feature_importances.reshape(-1, 2)\n",
    "  polygons.append(Polygon(points))\n",
    "\n",
    "# Plot the data and the polygons\n",
    "fig, ax = plt.subplots()\n",
    "ax.scatter(X_train[:, 0], X_train[:, 1], c=y_train, cmap='cool')\n",
    "for polygon in polygons:\n",
    "  ax.plot(*polygon.exterior.xy, color='black')\n",
    "ax.axis('equal')\n",
    "plt.show()"
   ]
  },
  {
   "attachments": {},
   "cell_type": "markdown",
   "metadata": {},
   "source": [
    "## Visualize with lime\n"
   ]
  },
  {
   "cell_type": "code",
   "execution_count": 68,
   "metadata": {},
   "outputs": [
    {
     "ename": "InvalidIndexError",
     "evalue": "(slice(None, None, None), 0)",
     "output_type": "error",
     "traceback": [
      "\u001b[1;31m---------------------------------------------------------------------------\u001b[0m",
      "\u001b[1;31mTypeError\u001b[0m                                 Traceback (most recent call last)",
      "File \u001b[1;32md:\\University\\Academics_2020_4th_Sem\\DS ML Templates\\.venv\\Lib\\site-packages\\pandas\\core\\indexes\\base.py:3652\u001b[0m, in \u001b[0;36mIndex.get_loc\u001b[1;34m(self, key)\u001b[0m\n\u001b[0;32m   3651\u001b[0m \u001b[39mtry\u001b[39;00m:\n\u001b[1;32m-> 3652\u001b[0m     \u001b[39mreturn\u001b[39;00m \u001b[39mself\u001b[39;49m\u001b[39m.\u001b[39;49m_engine\u001b[39m.\u001b[39;49mget_loc(casted_key)\n\u001b[0;32m   3653\u001b[0m \u001b[39mexcept\u001b[39;00m \u001b[39mKeyError\u001b[39;00m \u001b[39mas\u001b[39;00m err:\n",
      "File \u001b[1;32md:\\University\\Academics_2020_4th_Sem\\DS ML Templates\\.venv\\Lib\\site-packages\\pandas\\_libs\\index.pyx:147\u001b[0m, in \u001b[0;36mpandas._libs.index.IndexEngine.get_loc\u001b[1;34m()\u001b[0m\n",
      "File \u001b[1;32md:\\University\\Academics_2020_4th_Sem\\DS ML Templates\\.venv\\Lib\\site-packages\\pandas\\_libs\\index.pyx:153\u001b[0m, in \u001b[0;36mpandas._libs.index.IndexEngine.get_loc\u001b[1;34m()\u001b[0m\n",
      "\u001b[1;31mTypeError\u001b[0m: '(slice(None, None, None), 0)' is an invalid key",
      "\nDuring handling of the above exception, another exception occurred:\n",
      "\u001b[1;31mInvalidIndexError\u001b[0m                         Traceback (most recent call last)",
      "Cell \u001b[1;32mIn[68], line 1\u001b[0m\n\u001b[1;32m----> 1\u001b[0m explainer \u001b[39m=\u001b[39m lime\u001b[39m.\u001b[39;49mlime_tabular\u001b[39m.\u001b[39;49mLimeTabularExplainer(\n\u001b[0;32m      2\u001b[0m     X_train, feature_names\u001b[39m=\u001b[39;49mfeature_names, class_names\u001b[39m=\u001b[39;49m[\u001b[39m\"\u001b[39;49m\u001b[39m0\u001b[39;49m\u001b[39m\"\u001b[39;49m, \u001b[39m\"\u001b[39;49m\u001b[39m1\u001b[39;49m\u001b[39m\"\u001b[39;49m], mode\u001b[39m=\u001b[39;49m\u001b[39m'\u001b[39;49m\u001b[39mclassification\u001b[39;49m\u001b[39m'\u001b[39;49m\n\u001b[0;32m      3\u001b[0m )\n\u001b[0;32m      5\u001b[0m \u001b[39m# Select an instance for interpretation\u001b[39;00m\n\u001b[0;32m      6\u001b[0m instance_index \u001b[39m=\u001b[39m \u001b[39m1\u001b[39m\n",
      "File \u001b[1;32md:\\University\\Academics_2020_4th_Sem\\DS ML Templates\\.venv\\Lib\\site-packages\\lime\\lime_tabular.py:215\u001b[0m, in \u001b[0;36mLimeTabularExplainer.__init__\u001b[1;34m(self, training_data, mode, training_labels, feature_names, categorical_features, categorical_names, kernel_width, kernel, verbose, class_names, feature_selection, discretize_continuous, discretizer, sample_around_instance, random_state, training_data_stats)\u001b[0m\n\u001b[0;32m    209\u001b[0m     discretizer \u001b[39m=\u001b[39m StatsDiscretizer(training_data, \u001b[39mself\u001b[39m\u001b[39m.\u001b[39mcategorical_features,\n\u001b[0;32m    210\u001b[0m                                    \u001b[39mself\u001b[39m\u001b[39m.\u001b[39mfeature_names, labels\u001b[39m=\u001b[39mtraining_labels,\n\u001b[0;32m    211\u001b[0m                                    data_stats\u001b[39m=\u001b[39m\u001b[39mself\u001b[39m\u001b[39m.\u001b[39mtraining_data_stats,\n\u001b[0;32m    212\u001b[0m                                    random_state\u001b[39m=\u001b[39m\u001b[39mself\u001b[39m\u001b[39m.\u001b[39mrandom_state)\n\u001b[0;32m    214\u001b[0m \u001b[39mif\u001b[39;00m discretizer \u001b[39m==\u001b[39m \u001b[39m'\u001b[39m\u001b[39mquartile\u001b[39m\u001b[39m'\u001b[39m:\n\u001b[1;32m--> 215\u001b[0m     \u001b[39mself\u001b[39m\u001b[39m.\u001b[39mdiscretizer \u001b[39m=\u001b[39m QuartileDiscretizer(\n\u001b[0;32m    216\u001b[0m             training_data, \u001b[39mself\u001b[39;49m\u001b[39m.\u001b[39;49mcategorical_features,\n\u001b[0;32m    217\u001b[0m             \u001b[39mself\u001b[39;49m\u001b[39m.\u001b[39;49mfeature_names, labels\u001b[39m=\u001b[39;49mtraining_labels,\n\u001b[0;32m    218\u001b[0m             random_state\u001b[39m=\u001b[39;49m\u001b[39mself\u001b[39;49m\u001b[39m.\u001b[39;49mrandom_state)\n\u001b[0;32m    219\u001b[0m \u001b[39melif\u001b[39;00m discretizer \u001b[39m==\u001b[39m \u001b[39m'\u001b[39m\u001b[39mdecile\u001b[39m\u001b[39m'\u001b[39m:\n\u001b[0;32m    220\u001b[0m     \u001b[39mself\u001b[39m\u001b[39m.\u001b[39mdiscretizer \u001b[39m=\u001b[39m DecileDiscretizer(\n\u001b[0;32m    221\u001b[0m             training_data, \u001b[39mself\u001b[39m\u001b[39m.\u001b[39mcategorical_features,\n\u001b[0;32m    222\u001b[0m             \u001b[39mself\u001b[39m\u001b[39m.\u001b[39mfeature_names, labels\u001b[39m=\u001b[39mtraining_labels,\n\u001b[0;32m    223\u001b[0m             random_state\u001b[39m=\u001b[39m\u001b[39mself\u001b[39m\u001b[39m.\u001b[39mrandom_state)\n",
      "File \u001b[1;32md:\\University\\Academics_2020_4th_Sem\\DS ML Templates\\.venv\\Lib\\site-packages\\lime\\discretize.py:178\u001b[0m, in \u001b[0;36mQuartileDiscretizer.__init__\u001b[1;34m(self, data, categorical_features, feature_names, labels, random_state)\u001b[0m\n\u001b[0;32m    176\u001b[0m \u001b[39mdef\u001b[39;00m \u001b[39m__init__\u001b[39m(\u001b[39mself\u001b[39m, data, categorical_features, feature_names, labels\u001b[39m=\u001b[39m\u001b[39mNone\u001b[39;00m, random_state\u001b[39m=\u001b[39m\u001b[39mNone\u001b[39;00m):\n\u001b[1;32m--> 178\u001b[0m     BaseDiscretizer\u001b[39m.\u001b[39;49m\u001b[39m__init__\u001b[39;49m(\u001b[39mself\u001b[39;49m, data, categorical_features,\n\u001b[0;32m    179\u001b[0m                              feature_names, labels\u001b[39m=\u001b[39;49mlabels,\n\u001b[0;32m    180\u001b[0m                              random_state\u001b[39m=\u001b[39;49mrandom_state)\n",
      "File \u001b[1;32md:\\University\\Academics_2020_4th_Sem\\DS ML Templates\\.venv\\Lib\\site-packages\\lime\\discretize.py:51\u001b[0m, in \u001b[0;36mBaseDiscretizer.__init__\u001b[1;34m(self, data, categorical_features, feature_names, labels, random_state, data_stats)\u001b[0m\n\u001b[0;32m     48\u001b[0m \u001b[39mself\u001b[39m\u001b[39m.\u001b[39mrandom_state \u001b[39m=\u001b[39m check_random_state(random_state)\n\u001b[0;32m     50\u001b[0m \u001b[39m# To override when implementing a custom binning\u001b[39;00m\n\u001b[1;32m---> 51\u001b[0m bins \u001b[39m=\u001b[39m \u001b[39mself\u001b[39;49m\u001b[39m.\u001b[39;49mbins(data, labels)\n\u001b[0;32m     52\u001b[0m bins \u001b[39m=\u001b[39m [np\u001b[39m.\u001b[39munique(x) \u001b[39mfor\u001b[39;00m x \u001b[39min\u001b[39;00m bins]\n\u001b[0;32m     54\u001b[0m \u001b[39m# Read the stats from data_stats if exists\u001b[39;00m\n",
      "File \u001b[1;32md:\\University\\Academics_2020_4th_Sem\\DS ML Templates\\.venv\\Lib\\site-packages\\lime\\discretize.py:185\u001b[0m, in \u001b[0;36mQuartileDiscretizer.bins\u001b[1;34m(self, data, labels)\u001b[0m\n\u001b[0;32m    183\u001b[0m bins \u001b[39m=\u001b[39m []\n\u001b[0;32m    184\u001b[0m \u001b[39mfor\u001b[39;00m feature \u001b[39min\u001b[39;00m \u001b[39mself\u001b[39m\u001b[39m.\u001b[39mto_discretize:\n\u001b[1;32m--> 185\u001b[0m     qts \u001b[39m=\u001b[39m np\u001b[39m.\u001b[39marray(np\u001b[39m.\u001b[39mpercentile(data[:, feature], [\u001b[39m25\u001b[39m, \u001b[39m50\u001b[39m, \u001b[39m75\u001b[39m]))\n\u001b[0;32m    186\u001b[0m     bins\u001b[39m.\u001b[39mappend(qts)\n\u001b[0;32m    187\u001b[0m \u001b[39mreturn\u001b[39;00m bins\n",
      "File \u001b[1;32md:\\University\\Academics_2020_4th_Sem\\DS ML Templates\\.venv\\Lib\\site-packages\\pandas\\core\\frame.py:3761\u001b[0m, in \u001b[0;36mDataFrame.__getitem__\u001b[1;34m(self, key)\u001b[0m\n\u001b[0;32m   3759\u001b[0m \u001b[39mif\u001b[39;00m \u001b[39mself\u001b[39m\u001b[39m.\u001b[39mcolumns\u001b[39m.\u001b[39mnlevels \u001b[39m>\u001b[39m \u001b[39m1\u001b[39m:\n\u001b[0;32m   3760\u001b[0m     \u001b[39mreturn\u001b[39;00m \u001b[39mself\u001b[39m\u001b[39m.\u001b[39m_getitem_multilevel(key)\n\u001b[1;32m-> 3761\u001b[0m indexer \u001b[39m=\u001b[39m \u001b[39mself\u001b[39;49m\u001b[39m.\u001b[39;49mcolumns\u001b[39m.\u001b[39;49mget_loc(key)\n\u001b[0;32m   3762\u001b[0m \u001b[39mif\u001b[39;00m is_integer(indexer):\n\u001b[0;32m   3763\u001b[0m     indexer \u001b[39m=\u001b[39m [indexer]\n",
      "File \u001b[1;32md:\\University\\Academics_2020_4th_Sem\\DS ML Templates\\.venv\\Lib\\site-packages\\pandas\\core\\indexes\\base.py:3659\u001b[0m, in \u001b[0;36mIndex.get_loc\u001b[1;34m(self, key)\u001b[0m\n\u001b[0;32m   3654\u001b[0m     \u001b[39mraise\u001b[39;00m \u001b[39mKeyError\u001b[39;00m(key) \u001b[39mfrom\u001b[39;00m \u001b[39merr\u001b[39;00m\n\u001b[0;32m   3655\u001b[0m \u001b[39mexcept\u001b[39;00m \u001b[39mTypeError\u001b[39;00m:\n\u001b[0;32m   3656\u001b[0m     \u001b[39m# If we have a listlike key, _check_indexing_error will raise\u001b[39;00m\n\u001b[0;32m   3657\u001b[0m     \u001b[39m#  InvalidIndexError. Otherwise we fall through and re-raise\u001b[39;00m\n\u001b[0;32m   3658\u001b[0m     \u001b[39m#  the TypeError.\u001b[39;00m\n\u001b[1;32m-> 3659\u001b[0m     \u001b[39mself\u001b[39;49m\u001b[39m.\u001b[39;49m_check_indexing_error(key)\n\u001b[0;32m   3660\u001b[0m     \u001b[39mraise\u001b[39;00m\n",
      "File \u001b[1;32md:\\University\\Academics_2020_4th_Sem\\DS ML Templates\\.venv\\Lib\\site-packages\\pandas\\core\\indexes\\base.py:5736\u001b[0m, in \u001b[0;36mIndex._check_indexing_error\u001b[1;34m(self, key)\u001b[0m\n\u001b[0;32m   5732\u001b[0m \u001b[39mdef\u001b[39;00m \u001b[39m_check_indexing_error\u001b[39m(\u001b[39mself\u001b[39m, key):\n\u001b[0;32m   5733\u001b[0m     \u001b[39mif\u001b[39;00m \u001b[39mnot\u001b[39;00m is_scalar(key):\n\u001b[0;32m   5734\u001b[0m         \u001b[39m# if key is not a scalar, directly raise an error (the code below\u001b[39;00m\n\u001b[0;32m   5735\u001b[0m         \u001b[39m# would convert to numpy arrays and raise later any way) - GH29926\u001b[39;00m\n\u001b[1;32m-> 5736\u001b[0m         \u001b[39mraise\u001b[39;00m InvalidIndexError(key)\n",
      "\u001b[1;31mInvalidIndexError\u001b[0m: (slice(None, None, None), 0)"
     ]
    }
   ],
   "source": [
    "explainer = lime.lime_tabular.LimeTabularExplainer(\n",
    "    X_train, feature_names=feature_names, class_names=[\"0\", \"1\"], mode='classification'\n",
    ")\n",
    "\n",
    "# Select an instance for interpretation\n",
    "instance_index = 1\n",
    "instance = X_test[instance_index]\n",
    "true_label = y_test[instance_index]\n",
    "\n",
    "# Generate local explanation using LIME\n",
    "exp = explainer.explain_instance(instance, tuned_model.predict_proba, num_features=len(feature_names), labels=[0, 1])\n",
    "\n",
    "# Visualize feature importances\n",
    "fig = exp.as_pyplot_figure()\n",
    "plt.title(f\"Feature Importances for Instance {instance_index}\\nTrue Label: {true_label}\")\n",
    "plt.tight_layout()\n",
    "plt.show()"
   ]
  },
  {
   "attachments": {},
   "cell_type": "markdown",
   "metadata": {},
   "source": [
    "# 4. SVM\n"
   ]
  },
  {
   "cell_type": "code",
   "execution_count": null,
   "metadata": {},
   "outputs": [],
   "source": [
    "from sklearn.svm import SVC\n",
    "\n",
    "svc = SVC()\n",
    "\n",
    "svc.fit(X_train, y_train)\n",
    "\n",
    "y_pred_train = svc.predict(X_train)\n",
    "y_pred_dev = svc.predict(X_dev)\n",
    "\n",
    "print_eval_scores(y_pred_train, y_pred_dev, y_train, y_dev)"
   ]
  },
  {
   "attachments": {},
   "cell_type": "markdown",
   "metadata": {},
   "source": [
    "## Hyper-parameter tuning\n"
   ]
  },
  {
   "cell_type": "code",
   "execution_count": null,
   "metadata": {},
   "outputs": [],
   "source": [
    "svc = SVC()\n",
    "\n",
    "param_grid = {\n",
    "    \"C\": [i for i in range(0.1, 10, 0.1)],\n",
    "    \"kernel\": [\"linear\", \"poly\", \"rbf\", \"sigmoid\"],\n",
    "    \"degree\": [1, 2, 3, 4, 5, 6, 7, 8, 9, 10],\n",
    "    \"gamma\": [\"scale\", \"auto\"],\n",
    "    \"coef0\": [0.0, 0.1, 0.5, 1.0, 2.0],\n",
    "    \"shrinking\": [True, False],\n",
    "    \"probability\": [True, False],\n",
    "    \"tol\": [0.001, 0.01, 0.1, 1.0],\n",
    "    \"cache_size\": [200, 500, 1000],\n",
    "    \"class_weight\": [\"balanced\", None],\n",
    "}\n",
    "\n",
    "tuned_model = tune_by_RandomizedSearchCV(svc, param_grid, X_train, y_train)\n",
    "\n",
    "y_pred_train = tuned_model.predict(X_train)\n",
    "y_pred_dev = tuned_model.predict(X_dev)\n",
    "\n",
    "print_eval_scores(y_pred_train, y_pred_dev, y_train, y_dev)"
   ]
  }
 ],
 "metadata": {
  "kernelspec": {
   "display_name": ".venv",
   "language": "python",
   "name": "python3"
  },
  "language_info": {
   "codemirror_mode": {
    "name": "ipython",
    "version": 3
   },
   "file_extension": ".py",
   "mimetype": "text/x-python",
   "name": "python",
   "nbconvert_exporter": "python",
   "pygments_lexer": "ipython3",
   "version": "3.11.0"
  },
  "orig_nbformat": 4
 },
 "nbformat": 4,
 "nbformat_minor": 2
}
